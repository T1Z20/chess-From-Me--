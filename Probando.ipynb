{
 "cells": [
  {
   "cell_type": "code",
   "execution_count": 1,
   "metadata": {},
   "outputs": [],
   "source": [
    "import chess as ch\n",
    "import random as rd\n",
    "from ChessING import Engine\n",
    "import numpy as np\n",
    "import INGDIY\n"
   ]
  },
  {
   "cell_type": "code",
   "execution_count": 8,
   "metadata": {},
   "outputs": [],
   "source": [
    "board = ch.Board()"
   ]
  },
  {
   "cell_type": "code",
   "execution_count": null,
   "metadata": {},
   "outputs": [],
   "source": [
    "import chess as ch\n",
    "import chess.pgn\n",
    "import random as rd\n",
    "from ING import ChessING\n",
    "\n",
    "board = ch.Board()\n",
    "bot = Engine(board, 5, color=ch.WHITE)\n",
    "\n",
    "# Crear un objeto de juego PGN\n",
    "game = chess.pgn.Game()\n",
    "\n",
    "# Configurar el nodo raíz de la partida para almacenar movimientos\n",
    "node = game\n",
    "\n",
    "# Bucle principal del juego\n",
    "while not board.is_game_over():\n",
    "    print(board)\n",
    "    \n",
    "    # Si es el turno de las blancas (jugador aleatorio)\n",
    "    if board.turn == ch.WHITE:\n",
    "        print(\"Bot (Blanco) está pensando...\")\n",
    "        best_move = bot.getBestMove()\n",
    "        try:\n",
    "            board.push(best_move)\n",
    "        except ValueError:\n",
    "            print(\"Movimiento inválido. Inténtalo de nuevo.\")\n",
    "    else:\n",
    "        # Si es el turno del bot (negras)\n",
    "        print(\"Bot (Negras) está pensando...\")\n",
    "        \n",
    "        best_move = INGDIY.MEJORmov(board, 5, ch.BLACK)\n",
    "        try:\n",
    "            board.push(best_move)\n",
    "        except ValueError:\n",
    "            print(\"Movimiento inválido. Inténtalo de nuevo.\")\n",
    "    \n",
    "    # Añadir el movimiento actual al juego PGN\n",
    "    node = node.add_variation(board.peek())\n",
    "\n",
    "# Imprime el resultado del juego\n",
    "print(\"Juego terminado\")\n",
    "print(board.result())\n",
    "\n",
    "# Imprime el PGN de la partida\n",
    "print(game)\n",
    "\n",
    "# Guardar el PGN en un archivo\n",
    "with open(\"partida.pgn\", \"w\") as f:\n",
    "    f.write(str(game))\n"
   ]
  },
  {
   "cell_type": "code",
   "execution_count": 14,
   "metadata": {},
   "outputs": [
    {
     "name": "stdout",
     "output_type": "stream",
     "text": [
      "Tiempo de búsqueda para profundidad 6: 48.253000 segundos\n"
     ]
    }
   ],
   "source": [
    "import time\n",
    "import chess as ch\n",
    "from INGDIY import MEJORmov\n",
    "\n",
    "# Mide el tiempo de búsqueda\n",
    "def medir_tiempo_busqueda(board, profundidad, color):\n",
    "    # Marca el tiempo de inicio\n",
    "    tiempo_inicio = time.time()\n",
    "    \n",
    "    # Llama a la función MEJORmov para buscar el mejor movimiento\n",
    "    mejor_movimiento = MEJORmov(board, profundidad, color)\n",
    "    \n",
    "    # Marca el tiempo de fin\n",
    "    tiempo_fin = time.time()\n",
    "    \n",
    "    # Calcula el tiempo transcurrido\n",
    "    tiempo_transcurrido = tiempo_fin - tiempo_inicio\n",
    "    \n",
    "    print(f\"Tiempo de búsqueda para profundidad {profundidad}: {tiempo_transcurrido:.6f} segundos\")\n",
    "    \n",
    "    return mejor_movimiento\n",
    "\n",
    "# Ejemplo de uso\n",
    "board = ch.Board()  # Crea un tablero inicial\n",
    "profundidad = 6  # Puedes ajustar la profundidad según lo necesites\n",
    "color = ch.WHITE  # Define el color del jugador (WHITE o BLACK)\n",
    "\n",
    "mejor_movimiento = medir_tiempo_busqueda(board, profundidad, color)\n"
   ]
  }
 ],
 "metadata": {
  "kernelspec": {
   "display_name": "Python 3",
   "language": "python",
   "name": "python3"
  },
  "language_info": {
   "codemirror_mode": {
    "name": "ipython",
    "version": 3
   },
   "file_extension": ".py",
   "mimetype": "text/x-python",
   "name": "python",
   "nbconvert_exporter": "python",
   "pygments_lexer": "ipython3",
   "version": "3.11.9"
  }
 },
 "nbformat": 4,
 "nbformat_minor": 2
}
