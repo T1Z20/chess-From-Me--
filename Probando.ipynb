{
 "cells": [
  {
   "cell_type": "code",
   "execution_count": 7,
   "metadata": {},
   "outputs": [],
   "source": [
    "import chess as ch\n",
    "import random as rd\n",
    "from ChessING import Engine\n",
    "import numpy as np\n",
    "import INGDIY\n",
    "from chess import pgn"
   ]
  },
  {
   "cell_type": "code",
   "execution_count": 15,
   "metadata": {},
   "outputs": [],
   "source": [
    "board = ch.Board()"
   ]
  },
  {
   "cell_type": "code",
   "execution_count": 8,
   "metadata": {},
   "outputs": [
    {
     "name": "stdout",
     "output_type": "stream",
     "text": [
      "r n b q k b n r\n",
      "p p p p p p p p\n",
      ". . . . . . . .\n",
      ". . . . . . . .\n",
      ". . . . . . . .\n",
      ". . . . . . . .\n",
      "P P P P P P P P\n",
      "R N B Q K B N R\n",
      "Bot (Blanco) está pensando...\n"
     ]
    },
    {
     "ename": "KeyboardInterrupt",
     "evalue": "",
     "output_type": "error",
     "traceback": [
      "\u001b[1;31m---------------------------------------------------------------------------\u001b[0m",
      "\u001b[1;31mKeyboardInterrupt\u001b[0m                         Traceback (most recent call last)",
      "\u001b[1;32mc:\\Users\\Tiza\\Desktop\\Work\\Proyectos\\chess(from me )\\Probando.ipynb Cell 3\u001b[0m line \u001b[0;36m1\n\u001b[0;32m     <a href='vscode-notebook-cell:/c%3A/Users/Tiza/Desktop/Work/Proyectos/chess%28from%20me%20%29/Probando.ipynb#W2sZmlsZQ%3D%3D?line=14'>15</a>\u001b[0m \u001b[39mif\u001b[39;00m board\u001b[39m.\u001b[39mturn \u001b[39m==\u001b[39m ch\u001b[39m.\u001b[39mWHITE:\n\u001b[0;32m     <a href='vscode-notebook-cell:/c%3A/Users/Tiza/Desktop/Work/Proyectos/chess%28from%20me%20%29/Probando.ipynb#W2sZmlsZQ%3D%3D?line=15'>16</a>\u001b[0m     \u001b[39mprint\u001b[39m(\u001b[39m\"\u001b[39m\u001b[39mBot (Blanco) está pensando...\u001b[39m\u001b[39m\"\u001b[39m)\n\u001b[1;32m---> <a href='vscode-notebook-cell:/c%3A/Users/Tiza/Desktop/Work/Proyectos/chess%28from%20me%20%29/Probando.ipynb#W2sZmlsZQ%3D%3D?line=16'>17</a>\u001b[0m     best_move \u001b[39m=\u001b[39m INGDIY\u001b[39m.\u001b[39;49mMEJORmov(board, \u001b[39m5\u001b[39;49m, ch\u001b[39m.\u001b[39;49mWHITE)\n\u001b[0;32m     <a href='vscode-notebook-cell:/c%3A/Users/Tiza/Desktop/Work/Proyectos/chess%28from%20me%20%29/Probando.ipynb#W2sZmlsZQ%3D%3D?line=17'>18</a>\u001b[0m     \u001b[39mtry\u001b[39;00m:\n\u001b[0;32m     <a href='vscode-notebook-cell:/c%3A/Users/Tiza/Desktop/Work/Proyectos/chess%28from%20me%20%29/Probando.ipynb#W2sZmlsZQ%3D%3D?line=18'>19</a>\u001b[0m         board\u001b[39m.\u001b[39mpush(best_move)\n",
      "File \u001b[1;32mc:\\Users\\Tiza\\Desktop\\Work\\Proyectos\\chess(from me )\\INGDIY.py:10\u001b[0m, in \u001b[0;36mMEJORmov\u001b[1;34m(board, profundidad, color)\u001b[0m\n\u001b[0;32m      9\u001b[0m \u001b[39mdef\u001b[39;00m \u001b[39mMEJORmov\u001b[39m(board, profundidad, color):\n\u001b[1;32m---> 10\u001b[0m     \u001b[39mreturn\u001b[39;00m ING(board, \u001b[39mNone\u001b[39;49;00m, \u001b[39m1\u001b[39;49m, profundidad, color)\n",
      "File \u001b[1;32mc:\\Users\\Tiza\\Desktop\\Work\\Proyectos\\chess(from me )\\INGDIY.py:236\u001b[0m, in \u001b[0;36mING\u001b[1;34m(board, candidate, profundidad_actual, profundidad, color, alpha, beta)\u001b[0m\n\u001b[0;32m    232\u001b[0m board\u001b[39m.\u001b[39mpush(movimiento_actual)\n\u001b[0;32m    234\u001b[0m \u001b[39m# Obtener valor (explorando repercusiones)\u001b[39;00m\n\u001b[0;32m    235\u001b[0m \u001b[39m# dependiendo si esta max o min  ek valor de nuevo movimiento se actualiza debido a la recursividad \u001b[39;00m\n\u001b[1;32m--> 236\u001b[0m value \u001b[39m=\u001b[39m ING(board, nuevo_movimiento, profundidad_actual \u001b[39m+\u001b[39;49m \u001b[39m1\u001b[39;49m, profundidad, color, alpha\u001b[39m=\u001b[39;49m\u001b[39mfloat\u001b[39;49m(\u001b[39m\"\u001b[39;49m\u001b[39m-inf\u001b[39;49m\u001b[39m\"\u001b[39;49m), beta\u001b[39m=\u001b[39;49m\u001b[39mfloat\u001b[39;49m(\u001b[39m\"\u001b[39;49m\u001b[39minf\u001b[39;49m\u001b[39m\"\u001b[39;49m)) \n\u001b[0;32m    240\u001b[0m \u001b[39m# Algoritmo minimax básico\u001b[39;00m\n\u001b[0;32m    241\u001b[0m \u001b[39mif\u001b[39;00m profundidad_actual \u001b[39m%\u001b[39m \u001b[39m2\u001b[39m \u001b[39m!=\u001b[39m \u001b[39m0\u001b[39m:  \u001b[39m# Maximizador\u001b[39;00m\n",
      "File \u001b[1;32mc:\\Users\\Tiza\\Desktop\\Work\\Proyectos\\chess(from me )\\INGDIY.py:236\u001b[0m, in \u001b[0;36mING\u001b[1;34m(board, candidate, profundidad_actual, profundidad, color, alpha, beta)\u001b[0m\n\u001b[0;32m    232\u001b[0m board\u001b[39m.\u001b[39mpush(movimiento_actual)\n\u001b[0;32m    234\u001b[0m \u001b[39m# Obtener valor (explorando repercusiones)\u001b[39;00m\n\u001b[0;32m    235\u001b[0m \u001b[39m# dependiendo si esta max o min  ek valor de nuevo movimiento se actualiza debido a la recursividad \u001b[39;00m\n\u001b[1;32m--> 236\u001b[0m value \u001b[39m=\u001b[39m ING(board, nuevo_movimiento, profundidad_actual \u001b[39m+\u001b[39;49m \u001b[39m1\u001b[39;49m, profundidad, color, alpha\u001b[39m=\u001b[39;49m\u001b[39mfloat\u001b[39;49m(\u001b[39m\"\u001b[39;49m\u001b[39m-inf\u001b[39;49m\u001b[39m\"\u001b[39;49m), beta\u001b[39m=\u001b[39;49m\u001b[39mfloat\u001b[39;49m(\u001b[39m\"\u001b[39;49m\u001b[39minf\u001b[39;49m\u001b[39m\"\u001b[39;49m)) \n\u001b[0;32m    240\u001b[0m \u001b[39m# Algoritmo minimax básico\u001b[39;00m\n\u001b[0;32m    241\u001b[0m \u001b[39mif\u001b[39;00m profundidad_actual \u001b[39m%\u001b[39m \u001b[39m2\u001b[39m \u001b[39m!=\u001b[39m \u001b[39m0\u001b[39m:  \u001b[39m# Maximizador\u001b[39;00m\n",
      "    \u001b[1;31m[... skipping similar frames: ING at line 236 (1 times)]\u001b[0m\n",
      "File \u001b[1;32mc:\\Users\\Tiza\\Desktop\\Work\\Proyectos\\chess(from me )\\INGDIY.py:236\u001b[0m, in \u001b[0;36mING\u001b[1;34m(board, candidate, profundidad_actual, profundidad, color, alpha, beta)\u001b[0m\n\u001b[0;32m    232\u001b[0m board\u001b[39m.\u001b[39mpush(movimiento_actual)\n\u001b[0;32m    234\u001b[0m \u001b[39m# Obtener valor (explorando repercusiones)\u001b[39;00m\n\u001b[0;32m    235\u001b[0m \u001b[39m# dependiendo si esta max o min  ek valor de nuevo movimiento se actualiza debido a la recursividad \u001b[39;00m\n\u001b[1;32m--> 236\u001b[0m value \u001b[39m=\u001b[39m ING(board, nuevo_movimiento, profundidad_actual \u001b[39m+\u001b[39;49m \u001b[39m1\u001b[39;49m, profundidad, color, alpha\u001b[39m=\u001b[39;49m\u001b[39mfloat\u001b[39;49m(\u001b[39m\"\u001b[39;49m\u001b[39m-inf\u001b[39;49m\u001b[39m\"\u001b[39;49m), beta\u001b[39m=\u001b[39;49m\u001b[39mfloat\u001b[39;49m(\u001b[39m\"\u001b[39;49m\u001b[39minf\u001b[39;49m\u001b[39m\"\u001b[39;49m)) \n\u001b[0;32m    240\u001b[0m \u001b[39m# Algoritmo minimax básico\u001b[39;00m\n\u001b[0;32m    241\u001b[0m \u001b[39mif\u001b[39;00m profundidad_actual \u001b[39m%\u001b[39m \u001b[39m2\u001b[39m \u001b[39m!=\u001b[39m \u001b[39m0\u001b[39m:  \u001b[39m# Maximizador\u001b[39;00m\n",
      "File \u001b[1;32mc:\\Users\\Tiza\\Desktop\\Work\\Proyectos\\chess(from me )\\INGDIY.py:214\u001b[0m, in \u001b[0;36mING\u001b[1;34m(board, candidate, profundidad_actual, profundidad, color, alpha, beta)\u001b[0m\n\u001b[0;32m    211\u001b[0m \u001b[39mdef\u001b[39;00m \u001b[39mING\u001b[39m(board, candidate, profundidad_actual, profundidad, color, alpha\u001b[39m=\u001b[39m\u001b[39mfloat\u001b[39m(\u001b[39m\"\u001b[39m\u001b[39m-inf\u001b[39m\u001b[39m\"\u001b[39m), beta\u001b[39m=\u001b[39m\u001b[39mfloat\u001b[39m(\u001b[39m\"\u001b[39m\u001b[39minf\u001b[39m\u001b[39m\"\u001b[39m)):\n\u001b[0;32m    212\u001b[0m     \u001b[39m# Si se alcanza la profundidad o no hay movimientos legales, da el  el valor de evaluación \u001b[39;00m\n\u001b[0;32m    213\u001b[0m     \u001b[39mif\u001b[39;00m profundidad_actual \u001b[39m==\u001b[39m profundidad \u001b[39mor\u001b[39;00m board\u001b[39m.\u001b[39mlegal_moves\u001b[39m.\u001b[39mcount() \u001b[39m==\u001b[39m \u001b[39m0\u001b[39m:\n\u001b[1;32m--> 214\u001b[0m         \u001b[39mreturn\u001b[39;00m Eval_FUN(board, color)\n\u001b[0;32m    216\u001b[0m     \u001b[39m#  se generan todos los movimientos legales disponibles \u001b[39;00m\n\u001b[0;32m    217\u001b[0m     lista_mov \u001b[39m=\u001b[39m \u001b[39mlist\u001b[39m(board\u001b[39m.\u001b[39mlegal_moves)\n",
      "File \u001b[1;32mc:\\Users\\Tiza\\Desktop\\Work\\Proyectos\\chess(from me )\\INGDIY.py:58\u001b[0m, in \u001b[0;36mEval_FUN\u001b[1;34m(board, color)\u001b[0m\n\u001b[0;32m     54\u001b[0m \u001b[39mfor\u001b[39;00m i \u001b[39min\u001b[39;00m \u001b[39mrange\u001b[39m(\u001b[39m64\u001b[39m):\n\u001b[0;32m     55\u001b[0m     \u001b[39m# Suma los valores para cada casilla \u001b[39;00m\n\u001b[0;32m     56\u001b[0m     points \u001b[39m+\u001b[39m\u001b[39m=\u001b[39m Valores(board, ch\u001b[39m.\u001b[39mSQUARES[i], color)\n\u001b[1;32m---> 58\u001b[0m points \u001b[39m+\u001b[39m\u001b[39m=\u001b[39m MATE(board, color) \u001b[39m+\u001b[39m Apertura(board, color) \u001b[39m+\u001b[39m \u001b[39m0.001\u001b[39m \u001b[39m*\u001b[39m rd\u001b[39m.\u001b[39mrandom()\n\u001b[0;32m     61\u001b[0m \u001b[39mfor\u001b[39;00m i \u001b[39min\u001b[39;00m \u001b[39mrange\u001b[39m(\u001b[39m64\u001b[39m):  \u001b[39m# Hay 64 casillas en un tablero de ajedrez\u001b[39;00m\n\u001b[0;32m     62\u001b[0m     pieza \u001b[39m=\u001b[39m board\u001b[39m.\u001b[39mpiece_at(i)  \u001b[39m# Obtiene la pieza en la posición i\u001b[39;00m\n",
      "File \u001b[1;32mc:\\Users\\Tiza\\Desktop\\Work\\Proyectos\\chess(from me )\\INGDIY.py:88\u001b[0m, in \u001b[0;36mApertura\u001b[1;34m(board, color)\u001b[0m\n\u001b[0;32m     86\u001b[0m \u001b[39mif\u001b[39;00m board\u001b[39m.\u001b[39mfullmove_number \u001b[39m<\u001b[39m \u001b[39m10\u001b[39m:\n\u001b[0;32m     87\u001b[0m     \u001b[39mif\u001b[39;00m board\u001b[39m.\u001b[39mturn \u001b[39m==\u001b[39m color:\n\u001b[1;32m---> 88\u001b[0m         \u001b[39mreturn\u001b[39;00m \u001b[39m1\u001b[39m\u001b[39m/\u001b[39m\u001b[39m30\u001b[39m \u001b[39m*\u001b[39m board\u001b[39m.\u001b[39;49mlegal_moves\u001b[39m.\u001b[39;49mcount()\n\u001b[0;32m     89\u001b[0m     \u001b[39melse\u001b[39;00m:\n\u001b[0;32m     90\u001b[0m         \u001b[39mreturn\u001b[39;00m \u001b[39m-\u001b[39m\u001b[39m1\u001b[39m\u001b[39m/\u001b[39m\u001b[39m30\u001b[39m \u001b[39m*\u001b[39m board\u001b[39m.\u001b[39mlegal_moves\u001b[39m.\u001b[39mcount()\n",
      "File \u001b[1;32mc:\\Users\\Tiza\\AppData\\Local\\Programs\\Python\\Python311\\Lib\\site-packages\\chess\\__init__.py:3946\u001b[0m, in \u001b[0;36mLegalMoveGenerator.count\u001b[1;34m(self)\u001b[0m\n\u001b[0;32m   3944\u001b[0m \u001b[39mdef\u001b[39;00m \u001b[39mcount\u001b[39m(\u001b[39mself\u001b[39m) \u001b[39m-\u001b[39m\u001b[39m>\u001b[39m \u001b[39mint\u001b[39m:\n\u001b[0;32m   3945\u001b[0m     \u001b[39m# List conversion is faster than iterating.\u001b[39;00m\n\u001b[1;32m-> 3946\u001b[0m     \u001b[39mreturn\u001b[39;00m \u001b[39mlen\u001b[39m(\u001b[39mlist\u001b[39m(\u001b[39mself\u001b[39m))\n",
      "File \u001b[1;32mc:\\Users\\Tiza\\AppData\\Local\\Programs\\Python\\Python311\\Lib\\site-packages\\chess\\__init__.py:3716\u001b[0m, in \u001b[0;36mBoard.generate_legal_moves\u001b[1;34m(self, from_mask, to_mask)\u001b[0m\n\u001b[0;32m   3714\u001b[0m             \u001b[39myield\u001b[39;00m move\n\u001b[0;32m   3715\u001b[0m \u001b[39melse\u001b[39;00m:\n\u001b[1;32m-> 3716\u001b[0m     \u001b[39mfor\u001b[39;49;00m move \u001b[39min\u001b[39;49;00m \u001b[39mself\u001b[39;49m\u001b[39m.\u001b[39;49mgenerate_pseudo_legal_moves(from_mask, to_mask):\n\u001b[0;32m   3717\u001b[0m         \u001b[39mif\u001b[39;49;00m \u001b[39mself\u001b[39;49m\u001b[39m.\u001b[39;49m_is_safe(king, blockers, move):\n\u001b[0;32m   3718\u001b[0m             \u001b[39myield\u001b[39;49;00m move\n",
      "File \u001b[1;32mc:\\Users\\Tiza\\AppData\\Local\\Programs\\Python\\Python311\\Lib\\site-packages\\chess\\__init__.py:1819\u001b[0m, in \u001b[0;36mBoard.generate_pseudo_legal_moves\u001b[1;34m(self, from_mask, to_mask)\u001b[0m\n\u001b[0;32m   1816\u001b[0m     \u001b[39msuper\u001b[39m()\u001b[39m.\u001b[39mset_piece_at(square, piece, promoted\u001b[39m=\u001b[39mpromoted)\n\u001b[0;32m   1817\u001b[0m     \u001b[39mself\u001b[39m\u001b[39m.\u001b[39mclear_stack()\n\u001b[1;32m-> 1819\u001b[0m \u001b[39mdef\u001b[39;00m \u001b[39mgenerate_pseudo_legal_moves\u001b[39m(\u001b[39mself\u001b[39m, from_mask: Bitboard \u001b[39m=\u001b[39m BB_ALL, to_mask: Bitboard \u001b[39m=\u001b[39m BB_ALL) \u001b[39m-\u001b[39m\u001b[39m>\u001b[39m Iterator[Move]:\n\u001b[0;32m   1820\u001b[0m     our_pieces \u001b[39m=\u001b[39m \u001b[39mself\u001b[39m\u001b[39m.\u001b[39moccupied_co[\u001b[39mself\u001b[39m\u001b[39m.\u001b[39mturn]\n\u001b[0;32m   1822\u001b[0m     \u001b[39m# Generate piece moves.\u001b[39;00m\n",
      "\u001b[1;31mKeyboardInterrupt\u001b[0m: "
     ]
    }
   ],
   "source": [
    "\n",
    "\n",
    "board = ch.Board()\n",
    "bot = Engine(board, 4, color=ch.BLACK)\n",
    "\n",
    "# Crear un objeto de juego PGN\n",
    "game = ch.pgn.Game()\n",
    "\n",
    "# Configurar el nodo raíz de la partida para almacenar movimientos\n",
    "node = game\n",
    "\n",
    "# Bucle principal del juego\n",
    "while not board.is_game_over():\n",
    "    print(board)\n",
    "    \n",
    "    # Si es el turno de las blancas (jugador aleatorio)\n",
    "    if board.turn == ch.WHITE:\n",
    "        print(\"Bot (Blanco) está pensando...\")\n",
    "        best_move = INGDIY.MEJORmov(board, 5, ch.WHITE)\n",
    "        try:\n",
    "            board.push(best_move)\n",
    "        except ValueError:\n",
    "            print(\"Movimiento inválido. Inténtalo de nuevo.\")\n",
    "    else:\n",
    "        # Si es el turno del bot (negras)\n",
    "        print(\"Bot (Negras) está pensando...\")\n",
    "        \n",
    "        \n",
    "        best_move = bot.getBestMove()\n",
    "        try:\n",
    "            board.push(best_move)\n",
    "        except ValueError:\n",
    "            print(\"Movimiento inválido. Inténtalo de nuevo.\")\n",
    "    \n",
    "    # Añadir el movimiento actual al juego PGN\n",
    "    node = node.add_variation(board.peek())\n",
    "\n",
    "# Imprime el resultado del juego\n",
    "print(\"Juego terminado\")\n",
    "print(board.result())\n",
    "\n",
    "# Imprime el PGN de la partida\n",
    "print(game)\n",
    "\n",
    "# Guardar el PGN en un archivo\n",
    "with open(\"partida.pgn\", \"w\") as f:\n",
    "    f.write(str(game))\n"
   ]
  },
  {
   "cell_type": "code",
   "execution_count": 9,
   "metadata": {},
   "outputs": [
    {
     "name": "stdout",
     "output_type": "stream",
     "text": [
      "Tiempo de búsqueda para profundidad 5: 42.638997 segundos\n"
     ]
    }
   ],
   "source": [
    "import time\n",
    "import chess as ch\n",
    "from INGDIY import MEJORmov\n",
    "\n",
    "# Mide el tiempo de búsqueda\n",
    "def medir_tiempo_busqueda(board, profundidad, color):\n",
    "    # Marca el tiempo de inicio\n",
    "    tiempo_inicio = time.time()\n",
    "    \n",
    "    # Llama a la función MEJORmov para buscar el mejor movimiento\n",
    "    mejor_movimiento = MEJORmov(board, profundidad, color)\n",
    "    \n",
    "    # Marca el tiempo de fin\n",
    "    tiempo_fin = time.time()\n",
    "    \n",
    "    # Calcula el tiempo transcurrido\n",
    "    tiempo_transcurrido = tiempo_fin - tiempo_inicio\n",
    "    \n",
    "    print(f\"Tiempo de búsqueda para profundidad {profundidad}: {tiempo_transcurrido:.6f} segundos\")\n",
    "    \n",
    "    return mejor_movimiento\n",
    "\n",
    "# Ejemplo de uso\n",
    "board = ch.Board()  # Crea un tablero inicial\n",
    "profundidad = 5  # Puedes ajustar la profundidad según lo necesites\n",
    "color = ch.WHITE  # Define el color del jugador (WHITE o BLACK)\n",
    "\n",
    "mejor_movimiento = medir_tiempo_busqueda(board, profundidad, color)\n"
   ]
  }
 ],
 "metadata": {
  "kernelspec": {
   "display_name": "Python 3",
   "language": "python",
   "name": "python3"
  },
  "language_info": {
   "codemirror_mode": {
    "name": "ipython",
    "version": 3
   },
   "file_extension": ".py",
   "mimetype": "text/x-python",
   "name": "python",
   "nbconvert_exporter": "python",
   "pygments_lexer": "ipython3",
   "version": "3.11.9"
  }
 },
 "nbformat": 4,
 "nbformat_minor": 2
}
